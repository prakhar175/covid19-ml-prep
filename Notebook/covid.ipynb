{
 "cells": [
  {
   "cell_type": "code",
   "execution_count": null,
   "metadata": {
    "colab": {
     "base_uri": "https://localhost:8080/",
     "height": 470
    },
    "id": "JVPMMB_j_zZa",
    "outputId": "6d201300-54cc-421a-edee-d57d24c4a22a"
   },
   "outputs": [],
   "source": [
    "import pandas as pd\n",
    "\n",
    "\n",
    "df = pd.read_csv('COVID_FILE.csv')\n",
    "\n",
    "df = df.drop(['source', 'province','longitude','latitude','days_onset_to_admission','symptoms','geo_resolution','city','country','date_admission_hospital','date_death_or_discharge'], axis=1)\n",
    "df.head(9)"
   ]
  },
  {
   "cell_type": "code",
   "execution_count": null,
   "metadata": {
    "colab": {
     "base_uri": "https://localhost:8080/"
    },
    "id": "LZvUWlROsTZy",
    "outputId": "dcf008f2-6569-4609-b394-a26c797f3b30"
   },
   "outputs": [],
   "source": [
    "df['date_onset_symptoms'] = pd.to_datetime(df['date_onset_symptoms'])\n",
    "df['date_confirmation'] = pd.to_datetime(df['date_confirmation'])\n",
    "df['date_difference'] = df['date_confirmation'] - df['date_onset_symptoms']\n",
    "df['date_difference_in_days'] = df['date_difference'].dt.days\n",
    "mode=df['date_difference_in_days'].mode()[0]\n",
    "df['date_difference_in_days'] = df['date_difference_in_days'].fillna(mode).astype(int)\n",
    "df[['date_onset_symptoms', 'date_confirmation', 'date_difference_in_days']].head()\n",
    "df=df.drop('date_difference',axis=1)"
   ]
  },
  {
   "cell_type": "code",
   "execution_count": null,
   "metadata": {
    "colab": {
     "base_uri": "https://localhost:8080/",
     "height": 617
    },
    "id": "9RtS7_8duFOu",
    "outputId": "fc4fa796-505b-4650-ab39-e114577e294d"
   },
   "outputs": [],
   "source": [
    "df"
   ]
  },
  {
   "cell_type": "code",
   "execution_count": null,
   "metadata": {
    "colab": {
     "base_uri": "https://localhost:8080/"
    },
    "id": "xqEwoei2LXaP",
    "outputId": "acb3d792-58d6-492a-c2af-ed5b64e0f8b6"
   },
   "outputs": [],
   "source": [
    "print(df['urgency_of_admission'].value_counts())"
   ]
  },
  {
   "cell_type": "code",
   "execution_count": null,
   "metadata": {
    "colab": {
     "base_uri": "https://localhost:8080/",
     "height": 491
    },
    "id": "OPFEUwE5BO_-",
    "outputId": "4f9ce38e-7ea3-48c3-9b2a-616edc551199"
   },
   "outputs": [],
   "source": [
    "df.isnull().sum()"
   ]
  },
  {
   "cell_type": "code",
   "execution_count": null,
   "metadata": {
    "id": "AGUn_1YzBg-U"
   },
   "outputs": [],
   "source": [
    "mean = int(df['age'].mean())\n",
    "# df['age'].fillna(mean, inplace=True)\n",
    "df.fillna({'age': mean},inplace = True)\n",
    "mode = df['sex'].mode()[0]\n",
    "# df['sex'].fillna(mode, inplace=True)\n",
    "df.fillna({'sex': mode},inplace = True)\n",
    "df['age'] = df['age'].fillna(0).astype(int)"
   ]
  },
  {
   "cell_type": "code",
   "execution_count": null,
   "metadata": {
    "colab": {
     "base_uri": "https://localhost:8080/",
     "height": 491
    },
    "id": "AZksI3vtLoOh",
    "outputId": "3d7280b0-733e-4f96-a1b5-623899dddbb6"
   },
   "outputs": [],
   "source": [
    "df.isna().sum()"
   ]
  },
  {
   "cell_type": "markdown",
   "metadata": {
    "id": "kglvCNB1_3kP"
   },
   "source": [
    "## **MODEL EXECUTION STARTS**"
   ]
  },
  {
   "cell_type": "code",
   "execution_count": null,
   "metadata": {
    "colab": {
     "base_uri": "https://localhost:8080/",
     "height": 598
    },
    "id": "uu8iDbC2ByVe",
    "outputId": "2afd975e-f63f-424b-9957-f3758d4e28fa"
   },
   "outputs": [],
   "source": [
    "from sklearn.preprocessing import LabelEncoder\n",
    "\n",
    "label_encoder = LabelEncoder()\n",
    "\n",
    "\n",
    "columns = ['cough', 'fever', 'chills', 'sore_throat', 'headache', 'fatigue','sex','urgency_of_admission']\n",
    "\n",
    "for c in columns:\n",
    "    df[c] = label_encoder.fit_transform(df[c])\n",
    "df.head(8)\n"
   ]
  },
  {
   "cell_type": "code",
   "execution_count": null,
   "metadata": {
    "colab": {
     "base_uri": "https://localhost:8080/",
     "height": 335
    },
    "id": "VRcTGKTOxdsD",
    "outputId": "a212142e-a38a-45cd-8486-f6a48413f1f2"
   },
   "outputs": [],
   "source": [
    "df[['cough', 'fever', 'chills', 'sore_throat', 'headache', 'fatigue','sex','urgency_of_admission']\n",
    "].sum()\n"
   ]
  },
  {
   "cell_type": "code",
   "execution_count": null,
   "metadata": {
    "colab": {
     "base_uri": "https://localhost:8080/",
     "height": 507
    },
    "id": "XE7ty7zXF-Lv",
    "outputId": "2b6f28a2-00ee-4787-eab2-e6267e103760"
   },
   "outputs": [],
   "source": [
    "from matplotlib import pyplot as plt\n",
    "df['age_group'] = pd.cut(df['age'], bins=[0, 10, 20, 30, 40, 50, 60, 70, 80, 90, 100],\n",
    "                       labels=['0-10', '10-20', '20-30', '30-40', '40-50', '50-60', '60-70', '70-80', '80-90', '90-100'])\n",
    "\n",
    "df['age_group'] = pd.Categorical(df['age_group'], categories=['0-10', '10-20', '20-30', '30-40', '40-50', '50-60', '60-70', '70-80', '80-90', '90-100'], ordered=True)\n",
    "\n",
    "df['age_group'].value_counts().sort_index().plot(kind='bar', title='age')\n",
    "plt.gca().spines[['top', 'right',]].set_visible(False)\n",
    "plt.xlabel('Age Group')\n",
    "plt.ylabel('Count')\n",
    "plt.title('Age Distribution')\n",
    "df.drop('age_group', axis=1, inplace=True)"
   ]
  },
  {
   "cell_type": "code",
   "execution_count": null,
   "metadata": {
    "colab": {
     "base_uri": "https://localhost:8080/",
     "height": 1000
    },
    "id": "oIajY_7q3bxj",
    "outputId": "d40719f5-3af1-4e25-a398-1046376a1d16"
   },
   "outputs": [],
   "source": [
    "import seaborn as sns\n",
    "symptoms = ['cough', 'fever', 'chills', 'sore_throat', 'headache', 'fatigue']\n",
    "\n",
    "for symptom in symptoms:\n",
    "  sns.boxplot(x=df[symptom], y=df['age'])\n",
    "  plt.title(f'Box plot of Age vs {symptom}')\n",
    "  plt.show()"
   ]
  },
  {
   "cell_type": "code",
   "execution_count": null,
   "metadata": {
    "colab": {
     "base_uri": "https://localhost:8080/"
    },
    "id": "270lZ2G1pIOg",
    "outputId": "fc5340e0-c08b-4dd6-bc8f-6a688d3f6a72"
   },
   "outputs": [],
   "source": [
    "print(df.columns)\n",
    "df = df.drop('ID', axis=1)\n",
    "df = df.drop('date_confirmation',axis =1)\n",
    "df = df.drop('date_onset_symptoms',axis =1)"
   ]
  },
  {
   "cell_type": "code",
   "execution_count": null,
   "metadata": {
    "colab": {
     "base_uri": "https://localhost:8080/",
     "height": 853
    },
    "id": "95VbP7rFCRea",
    "outputId": "8de926c1-8cb9-427b-b903-ba71743b7e4c"
   },
   "outputs": [],
   "source": [
    "# Calculate the correlation matrix\n",
    "correlation_matrix = df.corr()\n",
    "plt.figure(figsize=(10, 8))\n",
    "sns.heatmap(correlation_matrix, annot=True, cmap='coolwarm', fmt=\".2f\")\n",
    "plt.title('Correlation Matrix Heatmap')\n",
    "plt.show()"
   ]
  },
  {
   "cell_type": "code",
   "execution_count": null,
   "metadata": {
    "colab": {
     "base_uri": "https://localhost:8080/",
     "height": 853
    },
    "id": "qhNFCStMDACy",
    "outputId": "a653aebf-43cf-4494-b33a-c2961561c203"
   },
   "outputs": [],
   "source": [
    "#Correlation wrt target column\n",
    "correlation_matrix = df.corr()\n",
    "plt.figure(figsize=(12, 10))\n",
    "sns.heatmap(correlation_matrix[['urgency_of_admission']], annot=True, cmap='coolwarm', fmt=\".2f\")\n",
    "plt.title('Correlation with Urgency of Admission')\n",
    "plt.show()"
   ]
  },
  {
   "cell_type": "code",
   "execution_count": null,
   "metadata": {
    "colab": {
     "base_uri": "https://localhost:8080/"
    },
    "id": "SUa4KL9fn4IF",
    "outputId": "5a9dc223-96cd-4e22-a677-9ac790a69f1b"
   },
   "outputs": [],
   "source": [
    "#Applying Logistic Regression Model\n",
    "from sklearn.model_selection import train_test_split\n",
    "from sklearn.linear_model import LogisticRegression\n",
    "from sklearn.metrics import accuracy_score\n",
    "from sklearn.preprocessing import StandardScaler\n",
    "\n",
    "X = df.drop('urgency_of_admission', axis=1)\n",
    "y = df['urgency_of_admission']\n",
    "\n",
    "for col in X.columns:\n",
    "    if X[col].dtype == 'datetime64[ns]':\n",
    "        X[col] = pd.to_numeric(X[col])\n",
    "\n",
    "scaler = StandardScaler()\n",
    "X = scaler.fit_transform(X)\n",
    "\n",
    "X_train, X_test, y_train, y_test = train_test_split(X, y, test_size=0.2, random_state=42)\n",
    "\n",
    "model = LogisticRegression(max_iter=500)\n",
    "model.fit(X_train, y_train)\n",
    "\n",
    "y_pred = model.predict(X_test)\n",
    "\n",
    "accuracy = accuracy_score(y_test, y_pred)\n",
    "print(\"Accuracy:\", accuracy)\n"
   ]
  },
  {
   "cell_type": "code",
   "execution_count": null,
   "metadata": {
    "colab": {
     "base_uri": "https://localhost:8080/"
    },
    "id": "pN_1EBFpA24S",
    "outputId": "505c6c6c-6b15-4f52-e2a1-85940f5606db"
   },
   "outputs": [],
   "source": [
    "y_pred_proba = model.predict_proba(X_test)[:,1]\n",
    "\n",
    "print(\"Confidence Scores:\")\n",
    "for i in range(len(y_pred)):\n",
    "  print(f\"Prediction: {y_pred[i]}, Confidence: {y_pred_proba[i]:.2f}\")"
   ]
  },
  {
   "cell_type": "code",
   "execution_count": null,
   "metadata": {
    "colab": {
     "base_uri": "https://localhost:8080/"
    },
    "id": "702aA9YI3MAj",
    "outputId": "662b2238-a327-42cf-830b-43aaca366635"
   },
   "outputs": [],
   "source": [
    "from sklearn.metrics import precision_score, recall_score, f1_score\n",
    "\n",
    "precision = precision_score(y_test, y_pred, average='weighted')\n",
    "recall = recall_score(y_test, y_pred, average='weighted')\n",
    "f1 = f1_score(y_test, y_pred, average='weighted')\n",
    "\n",
    "print(\"Precision:\", precision)\n",
    "print(\"Recall:\", recall)\n",
    "print(\"F1 Score:\", f1)"
   ]
  },
  {
   "cell_type": "code",
   "execution_count": null,
   "metadata": {
    "colab": {
     "base_uri": "https://localhost:8080/"
    },
    "id": "sq7f_bwQvrBy",
    "outputId": "8a237a5e-ff30-4c22-97ad-c48a3d565652"
   },
   "outputs": [],
   "source": [
    "#Applying Random Forest Model\n",
    "from sklearn.ensemble import RandomForestClassifier\n",
    "\n",
    "X = df.drop('urgency_of_admission', axis=1)\n",
    "y = df['urgency_of_admission']\n",
    "\n",
    "for col in X.columns:\n",
    "  if X[col].dtype == 'datetime64[ns]':\n",
    "    X[col] = pd.to_numeric(X[col])\n",
    "\n",
    "\n",
    "X_train, X_test, y_train, y_test = train_test_split(X, y, test_size=0.33, random_state=42)\n",
    "\n",
    "\n",
    "model = RandomForestClassifier(n_estimators=185, random_state=42)\n",
    "model.fit(X_train, y_train)\n",
    "\n",
    "\n",
    "y_pred = model.predict(X_test)\n",
    "\n",
    "accuracy = accuracy_score(y_test, y_pred)\n",
    "print(\"Accuracy:\", accuracy)"
   ]
  },
  {
   "cell_type": "code",
   "execution_count": null,
   "metadata": {
    "colab": {
     "base_uri": "https://localhost:8080/"
    },
    "id": "TrSoF3N8JpOB",
    "outputId": "aceb1d33-2be0-4ede-a607-90ea6d9eb7e3"
   },
   "outputs": [],
   "source": [
    "#Applying feature importance in Random Forest\n",
    "\n",
    "rf = RandomForestClassifier()\n",
    "rf.fit(X_train, y_train)\n",
    "\n",
    "feature_importances = rf.feature_importances_\n",
    "\n",
    "importance_df = pd.DataFrame({\n",
    "    'Feature': X_train.columns,\n",
    "    'Importance': feature_importances\n",
    "}).sort_values(by='Importance', ascending=False)\n",
    "\n",
    "print(importance_df)\n"
   ]
  },
  {
   "cell_type": "code",
   "execution_count": null,
   "metadata": {
    "colab": {
     "base_uri": "https://localhost:8080/"
    },
    "id": "Soh1j3f84gaw",
    "outputId": "c3d82289-ecd4-416d-8e0d-ccbf6ad0358d"
   },
   "outputs": [],
   "source": [
    "\n",
    "precision = precision_score(y_test, y_pred, average='weighted')\n",
    "recall = recall_score(y_test, y_pred, average='weighted')\n",
    "f1 = f1_score(y_test, y_pred, average='weighted')\n",
    "\n",
    "print(\"Precision:\", precision)\n",
    "print(\"Recall:\", recall)\n",
    "print(\"F1 Score:\", f1)"
   ]
  },
  {
   "cell_type": "code",
   "execution_count": null,
   "metadata": {
    "colab": {
     "base_uri": "https://localhost:8080/"
    },
    "id": "-7H2TM_IBezT",
    "outputId": "fff89524-246f-4af7-af58-dca838a0c9d5"
   },
   "outputs": [],
   "source": [
    "y_pred_proba = model.predict_proba(X_test)\n",
    "\n",
    "print(\"Confidence Scores:\")\n",
    "for i in range(len(y_pred)):\n",
    "  print(f\"Prediction: {y_pred[i]}, Confidence: {max(y_pred_proba[i]):.2f}\")"
   ]
  },
  {
   "cell_type": "code",
   "execution_count": null,
   "metadata": {
    "colab": {
     "base_uri": "https://localhost:8080/"
    },
    "id": "G_Ke7XVq-kR6",
    "outputId": "f1f9a034-aa4f-4cd8-93fb-74b7d90a99cc"
   },
   "outputs": [],
   "source": [
    "#Applying KNN Model\n",
    "from sklearn.neighbors import KNeighborsClassifier\n",
    "from sklearn.metrics import accuracy_score\n",
    "from sklearn.model_selection import train_test_split\n",
    "\n",
    "\n",
    "\n",
    "X_train, X_test, y_train, y_test = train_test_split(X, y, test_size=0.38, random_state=42)\n",
    "\n",
    "for col in X.columns:\n",
    "  if X[col].dtype == 'datetime64[ns]':\n",
    "    X[col] = pd.to_numeric(X[col])\n",
    "\n",
    "knn_model = KNeighborsClassifier(n_neighbors=25)\n",
    "knn_model.fit(X_train, y_train)\n",
    "\n",
    "\n",
    "y_pred = knn_model.predict(X_test)\n",
    "\n",
    "\n",
    "accuracy = accuracy_score(y_test, y_pred)\n",
    "print(\"KNN Accuracy:\", accuracy)\n"
   ]
  },
  {
   "cell_type": "code",
   "execution_count": null,
   "metadata": {
    "colab": {
     "base_uri": "https://localhost:8080/"
    },
    "id": "z4tMNNwRCLL6",
    "outputId": "498a0a9f-a812-4423-d97a-70624e0e2c33"
   },
   "outputs": [],
   "source": [
    "#Finding feature importance in KNN model\n",
    "from sklearn.inspection import permutation_importance\n",
    "\n",
    "perm_importance = permutation_importance(knn_model, X_test, y_test)\n",
    "feature_importances = perm_importance.importances_mean\n",
    "\n",
    "for i, importance in enumerate(feature_importances):\n",
    "    print(f\"Feature {X_train.columns[i]}: {importance}\")\n"
   ]
  },
  {
   "cell_type": "code",
   "execution_count": null,
   "metadata": {
    "colab": {
     "base_uri": "https://localhost:8080/"
    },
    "id": "9vRW1qXq4o1p",
    "outputId": "269e6254-a7d5-45e6-812a-b94c8dacaace"
   },
   "outputs": [],
   "source": [
    "precision = precision_score(y_test, y_pred, average='weighted')\n",
    "recall = recall_score(y_test, y_pred, average='weighted')\n",
    "f1 = f1_score(y_test, y_pred, average='weighted')\n",
    "\n",
    "print(\"KNN Precision:\", precision)\n",
    "print(\"KNN Recall:\", recall)\n",
    "print(\"KNN F1 Score:\", f1)"
   ]
  },
  {
   "cell_type": "code",
   "execution_count": null,
   "metadata": {
    "colab": {
     "base_uri": "https://localhost:8080/"
    },
    "id": "9dHqtqhY_E0D",
    "outputId": "5ff61ca0-5754-4eb0-a7c8-089e4d27fff3"
   },
   "outputs": [],
   "source": [
    "\n",
    "y_pred_proba = knn_model.predict_proba(X_test)\n",
    "\n",
    "print(\"KNN Confidence Scores:\")\n",
    "for i in range(len(y_pred)):\n",
    "  print(f\"Prediction: {y_pred[i]}, Confidence: {max(y_pred_proba[i]):.2f}\")"
   ]
  }
 ],
 "metadata": {
  "colab": {
   "provenance": []
  },
  "kernelspec": {
   "display_name": "Python 3",
   "name": "python3"
  },
  "language_info": {
   "codemirror_mode": {
    "name": "ipython",
    "version": 3
   },
   "file_extension": ".py",
   "mimetype": "text/x-python",
   "name": "python",
   "nbconvert_exporter": "python",
   "pygments_lexer": "ipython3",
   "version": "3.12.7"
  }
 },
 "nbformat": 4,
 "nbformat_minor": 0
}
